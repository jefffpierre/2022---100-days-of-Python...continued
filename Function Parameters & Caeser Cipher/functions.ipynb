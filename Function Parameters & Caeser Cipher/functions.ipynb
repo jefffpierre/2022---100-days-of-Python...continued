{
 "cells": [
  {
   "cell_type": "code",
   "execution_count": 6,
   "metadata": {},
   "outputs": [
    {
     "name": "stdout",
     "output_type": "stream",
     "text": [
      "Hi, my name is, what?..\n",
      "My name is, who?...\n",
      "My name is, chka-chka Slim Shady\n"
     ]
    }
   ],
   "source": [
    "def greet():\n",
    "    print(\"Hi, my name is, what?..\")\n",
    "    print(\"My name is, who?...\")\n",
    "    print(\"My name is, chka-chka Slim Shady\")\n",
    "\n",
    "greet()"
   ]
  },
  {
   "cell_type": "code",
   "execution_count": 11,
   "metadata": {},
   "outputs": [
    {
     "name": "stdout",
     "output_type": "stream",
     "text": [
      "Hi, my name is Slim Shady\n",
      "My name is, Slim Shady!!!\n",
      "My name is, Slim Shady\n"
     ]
    }
   ],
   "source": [
    "def greet_with_name(name):\n",
    "    print(f\"Hi, my name is {name}\")\n",
    "    print(f\"My name is, {name}!!!\")\n",
    "    print(f\"My name is, {name}\")\n",
    "\n",
    "greet_with_name(\"Slim Shady\")\n",
    "\n"
   ]
  },
  {
   "cell_type": "code",
   "execution_count": 14,
   "metadata": {},
   "outputs": [
    {
     "name": "stdout",
     "output_type": "stream",
     "text": [
      "Hi, my name is What?!\n",
      "My name is Who!?\n",
      "My name is Slim Shady\n"
     ]
    }
   ],
   "source": [
    "def what(what):\n",
    "    print(f\"Hi, my name is {what}\")\n",
    "\n",
    "def who(who):\n",
    "    print(f\"My name is {who}\")\n",
    "\n",
    "def name(name):\n",
    "    print(f\"My name is {name}\")\n",
    "\n",
    "\n",
    "what(\"What?!\")\n",
    "who(\"Who!?\")\n",
    "name(\"Slim Shady\")"
   ]
  },
  {
   "cell_type": "code",
   "execution_count": 15,
   "metadata": {},
   "outputs": [
    {
     "name": "stdout",
     "output_type": "stream",
     "text": [
      "Hi, my name is What?!\n",
      "My name is Who!?\n",
      "My name is Slim Shady\n"
     ]
    }
   ],
   "source": [
    "what(\"What?!\")\n",
    "who(\"Who!?\")\n",
    "name(\"Slim Shady\")"
   ]
  },
  {
   "cell_type": "code",
   "execution_count": 16,
   "metadata": {},
   "outputs": [
    {
     "name": "stdout",
     "output_type": "stream",
     "text": [
      "Hi, my name is Slim Shady\n",
      "My name is, Slim Shady!!!\n",
      "My name is, Slim Shady\n"
     ]
    }
   ],
   "source": [
    "greet_with_name(\"Slim Shady\")"
   ]
  },
  {
   "cell_type": "code",
   "execution_count": 19,
   "metadata": {},
   "outputs": [
    {
     "name": "stdout",
     "output_type": "stream",
     "text": [
      "Hi Jack Reacher, what Toronto are you from?\n"
     ]
    }
   ],
   "source": [
    "# Positional Arguements\n",
    "\n",
    "def greet_with(name, location):\n",
    "    print(f\"Hi {name}, what {location} are you from?\")\n",
    "    \n",
    "\n",
    "\n",
    "greet_with(\"Jack Reacher\", \"Toronto\")"
   ]
  },
  {
   "cell_type": "code",
   "execution_count": 22,
   "metadata": {},
   "outputs": [
    {
     "name": "stdout",
     "output_type": "stream",
     "text": [
      "Hi Jack Reacher, what Toronto are you from?\n"
     ]
    }
   ],
   "source": [
    "# Keyword Arguements\n",
    "\n",
    "def greet_with(name, location):\n",
    "    print(f\"Hi {name}, what {location} are you from?\")\n",
    "\n",
    "\n",
    "greet_with(name = \"Jack Reacher\", location = \"Toronto\")"
   ]
  },
  {
   "cell_type": "markdown",
   "metadata": {},
   "source": [
    "# Paint Area Calculator"
   ]
  },
  {
   "cell_type": "markdown",
   "metadata": {},
   "source": [
    "Instructions\n",
    "You are painting a wall. The instructions on the paint can says that 1 can of paint can cover 5 square meters of wall. Given a random height and width of wall, calculate how many cans of paint you'll need to buy.\n",
    "\n",
    "number of cans = (wall height ✖️ wall width) ÷ coverage per can.\n",
    "\n",
    "e.g. Height = 2, Width = 4, Coverage = 5\n",
    "\n",
    "number of cans = (2 ✖️ 4) ÷ 5\n",
    "\n",
    "                     = 1.6\n",
    "\n",
    "But because you can't buy 0.6 of a can of paint, the result should be rounded up to 2 cans."
   ]
  },
  {
   "cell_type": "code",
   "execution_count": 23,
   "metadata": {},
   "outputs": [
    {
     "name": "stdout",
     "output_type": "stream",
     "text": [
      "You'll need 6 can of paint\n"
     ]
    }
   ],
   "source": [
    "#Write your code below this line 👇\n",
    "import math\n",
    "\n",
    "def paint_calc(height, width, cover):\n",
    "    total = math.ceil((height * width ) / cover)\n",
    "    print(f\"You'll need {total} cans of paint\")\n",
    "\n",
    "\n",
    "\n",
    "#Write your code above this line 👆\n",
    "# Define a function called paint_calc() so that the code below works.   \n",
    "\n",
    "# 🚨 Don't change the code below 👇\n",
    "test_h = int(input(\"Height of wall: \"))\n",
    "test_w = int(input(\"Width of wall: \"))\n",
    "coverage = 5\n",
    "paint_calc(height=test_h, width=test_w, cover=coverage)"
   ]
  },
  {
   "cell_type": "markdown",
   "metadata": {},
   "source": [
    "# Prime Numbers"
   ]
  },
  {
   "cell_type": "markdown",
   "metadata": {},
   "source": [
    "Instructions\n",
    "Prime numbers are numbers that can only be cleanly divided by themselves and 1.\n",
    "\n",
    "https://en.wikipedia.org/wiki/Prime_number\n",
    "\n",
    "You need to write a function that checks whether if the number passed into it is a prime number or not.\n",
    "\n",
    "e.g. 2 is a prime number because it's only divisible by 1 and 2.\n",
    "\n",
    "But 4 is not a prime number because you can divide it by 1, 2 or 4.\n",
    "\n",
    "Example Input 1\n",
    "73\n",
    "Example Output 1\n",
    "It's a prime number.\n",
    "Example Input 2\n",
    "75\n",
    "Example Output 2\n",
    "It's not a prime number.\n",
    "Hint\n",
    "Remember the modulus:\n",
    "https://stackoverflow.com/questions/4432208/what-is-the-result-of-in-python\n",
    "\n",
    "Make sure you name your function/parameters the same as when it's called on the last line of code.\n",
    "\n",
    "Use the same wording as the Example Outputs to make sure the tests pass.\n",
    "\n",
    "Test Your Code"
   ]
  },
  {
   "cell_type": "code",
   "execution_count": null,
   "metadata": {},
   "outputs": [],
   "source": [
    "def prime_checker(number):\n",
    "    is_prime = True\n",
    "    for i in range(2, number - 1):\n",
    "        if number % i == 0:\n",
    "            is_prime = False\n",
    "    if is_prime:\n",
    "            print(\"It's a prime number.\") \n",
    "    else:\n",
    "            print(\"It's not a prime number.\")\n",
    "\n",
    "#-------------------------------------------------\n",
    "#Write your code above this line 👆\n",
    "    \n",
    "#Do NOT change any of the code below👇\n",
    "n = int(input(\"Check this number: \"))\n",
    "prime_checker(number=n)\n"
   ]
  },
  {
   "cell_type": "markdown",
   "metadata": {},
   "source": [
    "# Cesar-Cipher"
   ]
  },
  {
   "cell_type": "code",
   "execution_count": 10,
   "metadata": {},
   "outputs": [
    {
     "name": "stdout",
     "output_type": "stream",
     "text": [
      "The encoded text is mjqqt\n"
     ]
    }
   ],
   "source": [
    "alphabet = ['a', 'b', 'c', 'd', 'e', 'f', 'g', 'h', 'i', 'j', 'k', 'l', 'm', 'n', 'o', 'p', 'q', 'r', 's', 't', 'u', 'v', 'w', 'x', 'y', 'z']\n",
    "\n",
    "direction = input(\"Type 'encode' to encrypt, type 'decode' to decrypt:\\n\")\n",
    "text = input(\"Type your message:\\n\").lower()\n",
    "shift = int(input(\"Type the shift number:\\n\"))\n",
    "\n",
    "#TODO-1: Create a function called 'encrypt' that takes the 'text' and 'shift' as inputs.\n",
    "def encrypt(plain_text, shifting):\n",
    "    cipher_text = \"\"\n",
    "    for letter in plain_text:\n",
    "        position = alphabet.index(letter)\n",
    "        new_position = position + shifting\n",
    "        new_letter = alphabet[new_position]\n",
    "        cipher_text += new_letter\n",
    "    print(f\"The encoded text is {cipher_text}\")\n",
    "\n",
    "    #TODO-2: Inside the 'encrypt' function, shift each letter of the 'text' forwards in the alphabet by the shift amount and print the encrypted text.  \n",
    "    #e.g. \n",
    "    #plain_text = \"hello\"\n",
    "    #shift = 5\n",
    "    #cipher_text = \"mjqqt\"\n",
    "    #print output: \"The encoded text is mjqqt\"\n",
    "\n",
    "    ##HINT: How do you get the index of an item in a list:\n",
    "    #https://stackoverflow.com/questions/176918/finding-the-index-of-an-item-in-a-list\n",
    "\n",
    "    ##🐛Bug alert: What happens if you try to encode the word 'civilization'?🐛\n",
    "\n",
    "#TODO-3: Call the encrypt function and pass in the user inputs. You should be able to test the code and encrypt a message.\n",
    "encrypt(plain_text = text, shifting = shift)"
   ]
  }
 ],
 "metadata": {
  "interpreter": {
   "hash": "504a0bd1ff6cd9b5c9ceefbc2d92d99b24c0c4c6fcdb7d66189c03b11e5237d1"
  },
  "kernelspec": {
   "display_name": "Python 3.9.7 64-bit",
   "language": "python",
   "name": "python3"
  },
  "language_info": {
   "codemirror_mode": {
    "name": "ipython",
    "version": 3
   },
   "file_extension": ".py",
   "mimetype": "text/x-python",
   "name": "python",
   "nbconvert_exporter": "python",
   "pygments_lexer": "ipython3",
   "version": "3.9.7"
  },
  "orig_nbformat": 4
 },
 "nbformat": 4,
 "nbformat_minor": 2
}
