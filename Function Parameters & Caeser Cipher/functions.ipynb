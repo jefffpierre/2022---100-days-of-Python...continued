{
 "cells": [
  {
   "cell_type": "code",
   "execution_count": 6,
   "metadata": {},
   "outputs": [
    {
     "name": "stdout",
     "output_type": "stream",
     "text": [
      "Hi, my name is, what?..\n",
      "My name is, who?...\n",
      "My name is, chka-chka Slim Shady\n"
     ]
    }
   ],
   "source": [
    "def greet():\n",
    "    print(\"Hi, my name is, what?..\")\n",
    "    print(\"My name is, who?...\")\n",
    "    print(\"My name is, chka-chka Slim Shady\")\n",
    "\n",
    "greet()"
   ]
  },
  {
   "cell_type": "code",
   "execution_count": 11,
   "metadata": {},
   "outputs": [
    {
     "name": "stdout",
     "output_type": "stream",
     "text": [
      "Hi, my name is Slim Shady\n",
      "My name is, Slim Shady!!!\n",
      "My name is, Slim Shady\n"
     ]
    }
   ],
   "source": [
    "def greet_with_name(name):\n",
    "    print(f\"Hi, my name is {name}\")\n",
    "    print(f\"My name is, {name}!!!\")\n",
    "    print(f\"My name is, {name}\")\n",
    "\n",
    "greet_with_name(\"Slim Shady\")\n",
    "\n"
   ]
  },
  {
   "cell_type": "code",
   "execution_count": 14,
   "metadata": {},
   "outputs": [
    {
     "name": "stdout",
     "output_type": "stream",
     "text": [
      "Hi, my name is What?!\n",
      "My name is Who!?\n",
      "My name is Slim Shady\n"
     ]
    }
   ],
   "source": [
    "def what(what):\n",
    "    print(f\"Hi, my name is {what}\")\n",
    "\n",
    "def who(who):\n",
    "    print(f\"My name is {who}\")\n",
    "\n",
    "def name(name):\n",
    "    print(f\"My name is {name}\")\n",
    "\n",
    "\n",
    "what(\"What?!\")\n",
    "who(\"Who!?\")\n",
    "name(\"Slim Shady\")"
   ]
  },
  {
   "cell_type": "code",
   "execution_count": 15,
   "metadata": {},
   "outputs": [
    {
     "name": "stdout",
     "output_type": "stream",
     "text": [
      "Hi, my name is What?!\n",
      "My name is Who!?\n",
      "My name is Slim Shady\n"
     ]
    }
   ],
   "source": [
    "what(\"What?!\")\n",
    "who(\"Who!?\")\n",
    "name(\"Slim Shady\")"
   ]
  },
  {
   "cell_type": "code",
   "execution_count": 16,
   "metadata": {},
   "outputs": [
    {
     "name": "stdout",
     "output_type": "stream",
     "text": [
      "Hi, my name is Slim Shady\n",
      "My name is, Slim Shady!!!\n",
      "My name is, Slim Shady\n"
     ]
    }
   ],
   "source": [
    "greet_with_name(\"Slim Shady\")"
   ]
  },
  {
   "cell_type": "code",
   "execution_count": 19,
   "metadata": {},
   "outputs": [
    {
     "name": "stdout",
     "output_type": "stream",
     "text": [
      "Hi Jack Reacher, what Toronto are you from?\n"
     ]
    }
   ],
   "source": [
    "# Positional Arguements\n",
    "\n",
    "def greet_with(name, location):\n",
    "    print(f\"Hi {name}, what {location} are you from?\")\n",
    "    \n",
    "\n",
    "\n",
    "greet_with(\"Jack Reacher\", \"Toronto\")"
   ]
  },
  {
   "cell_type": "code",
   "execution_count": 22,
   "metadata": {},
   "outputs": [
    {
     "name": "stdout",
     "output_type": "stream",
     "text": [
      "Hi Jack Reacher, what Toronto are you from?\n"
     ]
    }
   ],
   "source": [
    "# Keyword Arguements\n",
    "\n",
    "def greet_with(name, location):\n",
    "    print(f\"Hi {name}, what {location} are you from?\")\n",
    "\n",
    "\n",
    "greet_with(name = \"Jack Reacher\", location = \"Toronto\")"
   ]
  },
  {
   "cell_type": "markdown",
   "metadata": {},
   "source": [
    "# Paint Area Calculator"
   ]
  },
  {
   "cell_type": "markdown",
   "metadata": {},
   "source": [
    "Instructions\n",
    "You are painting a wall. The instructions on the paint can says that 1 can of paint can cover 5 square meters of wall. Given a random height and width of wall, calculate how many cans of paint you'll need to buy.\n",
    "\n",
    "number of cans = (wall height ✖️ wall width) ÷ coverage per can.\n",
    "\n",
    "e.g. Height = 2, Width = 4, Coverage = 5\n",
    "\n",
    "number of cans = (2 ✖️ 4) ÷ 5\n",
    "\n",
    "                     = 1.6\n",
    "\n",
    "But because you can't buy 0.6 of a can of paint, the result should be rounded up to 2 cans."
   ]
  },
  {
   "cell_type": "code",
   "execution_count": 23,
   "metadata": {},
   "outputs": [
    {
     "name": "stdout",
     "output_type": "stream",
     "text": [
      "You'll need 6 can of paint\n"
     ]
    }
   ],
   "source": [
    "#Write your code below this line 👇\n",
    "import math\n",
    "\n",
    "def paint_calc(height, width, cover):\n",
    "    total = math.ceil((height * width ) / cover)\n",
    "    print(f\"You'll need {total} cans of paint\")\n",
    "\n",
    "\n",
    "\n",
    "#Write your code above this line 👆\n",
    "# Define a function called paint_calc() so that the code below works.   \n",
    "\n",
    "# 🚨 Don't change the code below 👇\n",
    "test_h = int(input(\"Height of wall: \"))\n",
    "test_w = int(input(\"Width of wall: \"))\n",
    "coverage = 5\n",
    "paint_calc(height=test_h, width=test_w, cover=coverage)"
   ]
  }
 ],
 "metadata": {
  "interpreter": {
   "hash": "504a0bd1ff6cd9b5c9ceefbc2d92d99b24c0c4c6fcdb7d66189c03b11e5237d1"
  },
  "kernelspec": {
   "display_name": "Python 3.9.7 64-bit",
   "language": "python",
   "name": "python3"
  },
  "language_info": {
   "codemirror_mode": {
    "name": "ipython",
    "version": 3
   },
   "file_extension": ".py",
   "mimetype": "text/x-python",
   "name": "python",
   "nbconvert_exporter": "python",
   "pygments_lexer": "ipython3",
   "version": "3.9.7"
  },
  "orig_nbformat": 4
 },
 "nbformat": 4,
 "nbformat_minor": 2
}
