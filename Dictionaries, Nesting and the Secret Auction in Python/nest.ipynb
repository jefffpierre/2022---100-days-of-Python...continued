{
 "cells": [
  {
   "cell_type": "code",
   "execution_count": 1,
   "metadata": {},
   "outputs": [],
   "source": [
    "#Nesting Dictionary in a Dictionary\n",
    "\n",
    "travel_log = {\n",
    "    \"France\": {'cities_visited': [\"Paris\", \"Lille\", \"Dijon\"],\"total_visits\": 12},\n",
    "    \"Germany\": {'cities_visited': [\"Berlin\", \"Hamburg\", \"Stuttgart\"],\"total_visits:\": 7 }\n",
    "}"
   ]
  },
  {
   "cell_type": "code",
   "execution_count": 1,
   "metadata": {},
   "outputs": [],
   "source": [
    "#Nesting Dictionary in a List\n",
    "\n",
    "travel_log = [\n",
    "    {\n",
    "        \"country\":\"France\",\n",
    "        \"cities_visited\": [\"Paris\", \"Lille\", \"Dijon\"],\n",
    "        \"total_visits\": 12\n",
    "    },\n",
    "    {   \n",
    "        \"country\": \"Germany\", \n",
    "        \"cities_visited\": [\"Berlin\", \"Hamburg\", \"Stuttgart\"],\n",
    "        \"total_visits:\": 7 \n",
    "    },\n",
    "]\n"
   ]
  },
  {
   "cell_type": "markdown",
   "metadata": {},
   "source": [
    "Instructions\n",
    "\n",
    "You are going to write a program that adds to a travel_log. You can see a travel_log which is a List that contains 2 Dictionaries.\n",
    "\n",
    "Write a function that will work with the following line of code on line 21 to add the entry for Russia to the travel_log.\n",
    "\n",
    "add_new_country(\"Russia\", 2, [\"Moscow\", \"Saint Petersburg\"])\n",
    "You've visited Russia 2 times.\n",
    "\n",
    "You've been to Moscow and Saint Petersburg.\n",
    "\n",
    "DO NOT modify the travel_log directly. You need to create a function that modifies it.\n",
    "\n",
    "Hint\n",
    "Look at the function call above to see what the name of the function should be.\n",
    "\n",
    "The inputs for the function are positional arguments. The order is very important.\n",
    "\n",
    "Feel free to choose your own parameter names."
   ]
  },
  {
   "cell_type": "code",
   "execution_count": 8,
   "metadata": {},
   "outputs": [
    {
     "name": "stdout",
     "output_type": "stream",
     "text": [
      "[{'country': 'France', 'visits': 12, 'cities': ['Paris', 'Lille', 'Dijon']}, {'country': 'Germany', 'visits': 5, 'cities': ['Berlin', 'Hamburg', 'Stuttgart']}, {'country': 'Russia', 'visits': 2, 'cities': ['Moscow', 'Saint Petersburg']}, {'country': 'Belgium', 'visits': 4, 'cities': ['Pole', 'Burg']}]\n"
     ]
    }
   ],
   "source": [
    "travel_log = [\n",
    "{\n",
    "  \"country\": \"France\",\n",
    "  \"visits\": 12,\n",
    "  \"cities\": [\"Paris\", \"Lille\", \"Dijon\"]\n",
    "},\n",
    "{\n",
    "  \"country\": \"Germany\",\n",
    "  \"visits\": 5,\n",
    "  \"cities\": [\"Berlin\", \"Hamburg\", \"Stuttgart\"]\n",
    "},\n",
    "]\n",
    "#🚨 Do NOT change the code above\n",
    "\n",
    "#TODO: Write the function that will allow new countries\n",
    "#to be added to the travel_log. 👇\n",
    "\n",
    "def add_new_country(country_visted, times_visted, cities_visited):\n",
    "    new_country = {}\n",
    "    new_country[\"country\"] = country_visted\n",
    "    new_country[\"visits\"] = times_visted\n",
    "    new_country[\"cities\"] = cities_visited\n",
    "    travel_log.append(new_country)\n",
    "\n",
    "def add_new_country2(country_visted, times_visted, cities_visited):\n",
    "    new_country = {}\n",
    "    new_country[\"country\"] = country_visted\n",
    "    new_country[\"visits\"] = times_visted\n",
    "    new_country[\"cities\"] = cities_visited\n",
    "    travel_log.append(new_country)\n",
    "\n",
    "#🚨 Do not change the code below\n",
    "add_new_country(\"Russia\", 2, [\"Moscow\", \"Saint Petersburg\"])\n",
    "add_new_country2(\"Belgium\", 4, [\"Pole\", \"Burg\"])\n",
    "print(travel_log)"
   ]
  }
 ],
 "metadata": {
  "kernelspec": {
   "display_name": "Python 3.9.7 64-bit",
   "language": "python",
   "name": "python3"
  },
  "language_info": {
   "codemirror_mode": {
    "name": "ipython",
    "version": 3
   },
   "file_extension": ".py",
   "mimetype": "text/x-python",
   "name": "python",
   "nbconvert_exporter": "python",
   "pygments_lexer": "ipython3",
   "version": "3.9.7"
  },
  "orig_nbformat": 4,
  "vscode": {
   "interpreter": {
    "hash": "504a0bd1ff6cd9b5c9ceefbc2d92d99b24c0c4c6fcdb7d66189c03b11e5237d1"
   }
  }
 },
 "nbformat": 4,
 "nbformat_minor": 2
}
