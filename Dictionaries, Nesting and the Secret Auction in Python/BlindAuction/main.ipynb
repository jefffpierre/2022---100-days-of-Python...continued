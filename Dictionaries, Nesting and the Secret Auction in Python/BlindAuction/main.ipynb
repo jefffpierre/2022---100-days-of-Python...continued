{
 "cells": [
  {
   "cell_type": "code",
   "execution_count": 1,
   "metadata": {},
   "outputs": [
    {
     "name": "stdout",
     "output_type": "stream",
     "text": [
      "\n",
      "                         ___________\n",
      "                         \\         /\n",
      "                          )_______(\n",
      "                          |\"\"\"\"\"\"\"|_.-._,.---------.,_.-._\n",
      "                          |       | | |               | | ''-.\n",
      "                          |       |_| |_             _| |_..-'\n",
      "                          |_______| '-' `'---------'` '-'\n",
      "                          )\"\"\"\"\"\"\"(\n",
      "                         /_________\\\n",
      "                       .-------------.\n",
      "                      /_______________\\\n",
      "\n"
     ]
    }
   ],
   "source": [
    "from os import system, name\n",
    "\n",
    "def clear(): \n",
    "  \n",
    "    # for windows \n",
    "    if name == 'nt': \n",
    "        _ = system('cls') \n",
    "\n",
    "from art import logo\n",
    "\n",
    "print(logo)\n",
    "\n",
    "bids = {}\n",
    "\n",
    "bidding\n",
    "\n",
    "while\n",
    "    name = input(\"What's your name?\")\n",
    "    price = input(\"What's your bidding price?: $\")\n",
    "    bids[name] = price"
   ]
  }
 ],
 "metadata": {
  "kernelspec": {
   "display_name": "Python 3.9.7 64-bit",
   "language": "python",
   "name": "python3"
  },
  "language_info": {
   "codemirror_mode": {
    "name": "ipython",
    "version": 3
   },
   "file_extension": ".py",
   "mimetype": "text/x-python",
   "name": "python",
   "nbconvert_exporter": "python",
   "pygments_lexer": "ipython3",
   "version": "3.9.7"
  },
  "orig_nbformat": 4,
  "vscode": {
   "interpreter": {
    "hash": "504a0bd1ff6cd9b5c9ceefbc2d92d99b24c0c4c6fcdb7d66189c03b11e5237d1"
   }
  }
 },
 "nbformat": 4,
 "nbformat_minor": 2
}
